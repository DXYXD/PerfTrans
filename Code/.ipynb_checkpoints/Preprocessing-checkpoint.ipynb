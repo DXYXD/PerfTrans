{
 "cells": [
  {
   "cell_type": "markdown",
   "metadata": {},
   "source": [
    "1. process the new audi and lab records <br>\n",
    "2. Execute Perf_Trans file to get new transferings\n",
    "3. Process new records in 7.4"
   ]
  },
  {
   "cell_type": "markdown",
   "metadata": {},
   "source": [
    "### Load and connect"
   ]
  },
  {
   "cell_type": "code",
   "execution_count": 1,
   "metadata": {},
   "outputs": [],
   "source": [
    "import librosa\n",
    "import librosa.display"
   ]
  },
  {
   "cell_type": "code",
   "execution_count": null,
   "metadata": {},
   "outputs": [],
   "source": [
    "ylab1, srlab1 = librosa.load(\"G:\\\\MusicXLab\\\\20190630\\\\011005_0193.wav\", sr = None)\n",
    "ylab2, srlab2  = librosa.load(\"G:\\\\MusicXLab\\\\20190630\\\\011005_0194.wav\", sr = None)\n",
    "yaudi1, sraudi1 = librosa.load(\"G:\\\\MusicXLab\\\\20190704\\\\011009_0196.wav\", sr = None)\n",
    "yaudi2, sraudi2 = librosa.load(\"G:\\\\MusicXLab\\\\20190704\\\\011009_0197.wav\", sr = None)"
   ]
  },
  {
   "cell_type": "code",
   "execution_count": null,
   "metadata": {},
   "outputs": [],
   "source": [
    "import numpy as np"
   ]
  },
  {
   "cell_type": "code",
   "execution_count": null,
   "metadata": {},
   "outputs": [],
   "source": [
    "ylab = np.array((ylab1, ylab2))\n",
    "yaudi = np.array((yaudi1, yaudi2))"
   ]
  },
  {
   "cell_type": "code",
   "execution_count": null,
   "metadata": {},
   "outputs": [],
   "source": [
    "sr = srlab1\n",
    "threshold = 0.003\n",
    "ref = 0.00002\n",
    "t = 20"
   ]
  },
  {
   "cell_type": "markdown",
   "metadata": {},
   "source": [
    "### Compute DB"
   ]
  },
  {
   "cell_type": "code",
   "execution_count": null,
   "metadata": {},
   "outputs": [],
   "source": [
    "# Computing decibel by time window with length t\n",
    "# Average intensity of the ﬁrst phase of decay from the peak\n",
    "def compute_db(frame, t, ref):\n",
    "    decibel = []\n",
    "    for i in frame:\n",
    "        energy = np.array(i ** 2)\n",
    "        onset = np.where(energy == max(energy))[0][0] # the index of the maximum energy\n",
    "        tp = np.sqrt(np.mean(energy[onset:(onset + t)])) # # root mean square amplitude of the ﬁrst 10ms after the peak\n",
    "        decibel.append(librosa.amplitude_to_db([tp], ref)[0])\n",
    "        \n",
    "    return decibel"
   ]
  },
  {
   "cell_type": "markdown",
   "metadata": {},
   "source": [
    "### Compute Delay"
   ]
  },
  {
   "cell_type": "code",
   "execution_count": 13,
   "metadata": {},
   "outputs": [],
   "source": [
    "def compute_delay(frame, threshold, sr):\n",
    "    delay = []\n",
    "    length = sr//100\n",
    "    for i in range(5632):\n",
    "        j = 10\n",
    "        tp = threshold+1\n",
    "        while(tp > threshold):\n",
    "            j+=1\n",
    "            tp = np.sqrt(np.var((frame[i][j*length:j*length+length])))\n",
    "        delay.append(float(j)/100)\n",
    "        \n",
    "    return delay"
   ]
  },
  {
   "cell_type": "markdown",
   "metadata": {},
   "source": [
    "### To dataframe "
   ]
  },
  {
   "cell_type": "code",
   "execution_count": null,
   "metadata": {},
   "outputs": [],
   "source": [
    "def to_df(self, start_time, diff, tof):\n",
    "        d1 = 15000  # ?\n",
    "        d2 = 5000   # ?\n",
    "        self.frame = []\n",
    "        cut1 = 1371*self.sr + 16*self.sr + 48000\n",
    "        cut2 = 4646*self.sr + 16*self.sr + 58000\n",
    "        if tof == 1:\n",
    "            for i in range(5632): # 88*16*4*3 samples for each note\n",
    "                if (i < 1372):\n",
    "                    yi = self.y_all[(i*self.sr+self.sr*16+40000) : ((i+1)*self.sr + self.sr*16+40000 )]\n",
    "                if (i >= 1372) & (i < 4647):\n",
    "                    yi = self.y_all[cut1 + (i-1372)*self.sr: cut1 + (i-1372+1)*self.sr]\n",
    "                if (i >= 4647):\n",
    "                    yi = self.y_all[cut2 + (i-4647)*self.sr: cut2 + (i-4647+1)*self.sr]\n",
    "                self.frame.append(yi)\n",
    "        if tof == 0:\n",
    "            for i in range(5632): # ?diff\n",
    "                yi = self.y_all[((i + start_time)*self.sr - diff) : ((i + start_time + 1)*self.sr - diff)]\n",
    "                self.frame.append(yi)\n",
    "        noteArray = np.array(self.frame) # dataframe of one note: 5632*sr\n",
    "        self.df = noteArray.flatten() # pull to one dimension\n",
    "        self.df.shape = (88, 16, 4, self.sr) # reshape df"
   ]
  }
 ],
 "metadata": {
  "kernelspec": {
   "display_name": "Python 3",
   "language": "python",
   "name": "python3"
  },
  "language_info": {
   "codemirror_mode": {
    "name": "ipython",
    "version": 3
   },
   "file_extension": ".py",
   "mimetype": "text/x-python",
   "name": "python",
   "nbconvert_exporter": "python",
   "pygments_lexer": "ipython3",
   "version": "3.7.1"
  }
 },
 "nbformat": 4,
 "nbformat_minor": 2
}
