{
 "cells": [
  {
   "cell_type": "markdown",
   "metadata": {},
   "source": [
    "For each piece, we creat a relation with 5 attributes that are *pitch, duration, velocity, pedal depth, pedal time* <br>\n",
    "Each row present a note with its 5 attributes in that piece <br>\n",
    "pedal depth: the deepest pedal influencing the note <br>\n",
    "pedal time: the duration of notes which are influenced by the pedal <br>\n",
    "Effect pedal range:<br>\n",
    "Audi: 60--70 <br>\n",
    "Lab: 53--62 <br>"
   ]
  },
  {
   "cell_type": "code",
   "execution_count": 3,
   "metadata": {},
   "outputs": [],
   "source": [
    "import pretty_midi \n",
    "import json\n",
    "import os"
   ]
  },
  {
   "cell_type": "code",
   "execution_count": 43,
   "metadata": {},
   "outputs": [],
   "source": [
    "def attr(midifile, jsonfile, piecename, pedal_lowerb, pedal_upperb):\n",
    "    midi_data = pretty_midi.PrettyMIDI(midifile)\n",
    "    ListofCC = [{'number': cc.number, 'value': cc.value, 'time': cc.time} for cc in midi_data.instruments[0].control_changes]\n",
    "    ListofNotes = [{'pitch': n.pitch, 'start': n.start, 'end': n.end, 'velocity':n.velocity} for n in midi_data.instruments[0].notes]\n",
    "    \n",
    "    def f1(dic):\n",
    "        return dic['start']\n",
    "    ListofNotes_sort = sorted(ListofNotes, key = f1)\n",
    "    \n",
    "    def f2(dic):\n",
    "        return dic['time']\n",
    "    ListofCC_sort = sorted(ListofCC, key = f2)\n",
    "    \n",
    "    ListofNotes = [] \n",
    "    for n in ListofNotes_sort:\n",
    "        pedal_depth = []\n",
    "        pedal_time = []\n",
    "        \n",
    "        for cc in ListofCC_sort:\n",
    "            if cc['time'] >= n['start']:\n",
    "                pedal_depth.append(cc['value'])\n",
    "                pedal_time.append(cc['time'])\n",
    "                if cc['value'] <= pedal_lowerb:\n",
    "                    break\n",
    "                    \n",
    "        if len(pedal_depth) == 0:\n",
    "            pd= pedal_lowerb\n",
    "        else:\n",
    "            pd = max(pedal_depth)\n",
    "        if pd >= pedal_upperb:\n",
    "            pd = pedal_upperb\n",
    "        if  len(pedal_time) == 0:\n",
    "            pt = n['end'] - n['start']\n",
    "        else:\n",
    "            pt = max(pedal_time) - min(pedal_time)\n",
    "            if pt < (n['end'] - n['start']):\n",
    "                pt = n['end'] - n['start']\n",
    "\n",
    "        ListofNotes.append({'pitch': n['pitch'], 'duration': n['end'] - n['start'], 'velocity': n['velocity'], 'pedal depth': pd, 'pedal time': pt})\n",
    "    \n",
    "    # ! cannot read empty json file\n",
    "    with open(jsonfile,'r') as load_f:\n",
    "        load_dict = json.loads(json.load(load_f))\n",
    "    load_dict[piecename] = ListofNotes        \n",
    "    with open (jsonfile,'w',encoding='utf-8') as file:\n",
    "        json.dump(json.dumps(load_dict),file)\n",
    "        \n",
    "    return ListofNotes"
   ]
  },
  {
   "cell_type": "code",
   "execution_count": 44,
   "metadata": {},
   "outputs": [],
   "source": [
    "midiFilePath = 'D:\\\\Academic_work\\\\00PerfTransfer\\\\Song\\\\midi_1\\\\experiments'\n",
    "jsonfile = 'D:\\\\Academic_work\\\\00PerfTransfer\\\\File\\\\json\\\\PieceAttr.json'\n",
    "files= os.listdir(midiFilePath)\n",
    "for file in files:\n",
    "    piecename = file.split('.')[0]\n",
    "    if piecename.split('-')[-1] == 'lab':\n",
    "        pedal_lowerb = 53\n",
    "        pedal_upperb = 62\n",
    "    else:\n",
    "        pedal_lowerb = 60\n",
    "        pedal_upperb = 70\n",
    "    midifile = os.path.join(midiFilePath,file)\n",
    "    ListofNotes = attr(midifile, jsonfile, piecename, pedal_lowerb, pedal_upperb)"
   ]
  },
  {
   "cell_type": "markdown",
   "metadata": {},
   "source": []
  }
 ],
 "metadata": {
  "kernelspec": {
   "display_name": "Python 3",
   "language": "python",
   "name": "python3"
  },
  "language_info": {
   "codemirror_mode": {
    "name": "ipython",
    "version": 3
   },
   "file_extension": ".py",
   "mimetype": "text/x-python",
   "name": "python",
   "nbconvert_exporter": "python",
   "pygments_lexer": "ipython3",
   "version": "3.7.1"
  }
 },
 "nbformat": 4,
 "nbformat_minor": 2
}
