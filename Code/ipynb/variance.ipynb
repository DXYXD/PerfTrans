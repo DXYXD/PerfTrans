{
 "cells": [
  {
   "cell_type": "code",
   "execution_count": 5,
   "metadata": {},
   "outputs": [],
   "source": [
    "import json\n",
    "import csv\n",
    "import pandas as pd"
   ]
  },
  {
   "cell_type": "code",
   "execution_count": 25,
   "metadata": {},
   "outputs": [],
   "source": [
    "pathjson = 'D:\\\\Academic_work\\\\00PerfTransfer\\\\File\\\\json\\\\variance\\\\'\n",
    "pathcsv = 'D:\\\\Academic_work\\\\00PerfTransfer\\\\File\\\\csv\\\\'"
   ]
  },
  {
   "cell_type": "code",
   "execution_count": 12,
   "metadata": {},
   "outputs": [],
   "source": [
    "df_list = []\n",
    "for i in range(2,9):\n",
    "    filename = pathjson + str(i) + '-Variance.json'\n",
    "    with open(filename,'r') as f:\n",
    "        data_list = json.load(f)\n",
    "        data_df = pd.DataFrame(data_list)\n",
    "        df_list.append(data_df)"
   ]
  },
  {
   "cell_type": "code",
   "execution_count": 17,
   "metadata": {},
   "outputs": [],
   "source": [
    "for i in range(7):\n",
    "    df_list[i].columns = ['std.pitch'+str(i+2), 'd_var'+str(i+2), 'v_var'+str(i+2)]"
   ]
  },
  {
   "cell_type": "code",
   "execution_count": 26,
   "metadata": {},
   "outputs": [],
   "source": [
    "for i in range(7):\n",
    "    df.to_csv(pathcsv + str(i+2) + '-Variance.csv',columns=['std.pitch'+str(i+2), 'd_var'+str(i+2), 'v_var'+str(i+2)],index=False,sep=',')"
   ]
  },
  {
   "cell_type": "code",
   "execution_count": 20,
   "metadata": {
    "scrolled": true
   },
   "outputs": [
    {
     "name": "stderr",
     "output_type": "stream",
     "text": [
      "D:\\Anaconda3\\lib\\site-packages\\ipykernel_launcher.py:3: FutureWarning: Sorting because non-concatenation axis is not aligned. A future version\n",
      "of pandas will change to not sort by default.\n",
      "\n",
      "To accept the future behavior, pass 'sort=False'.\n",
      "\n",
      "To retain the current behavior and silence the warning, pass 'sort=True'.\n",
      "\n",
      "  This is separate from the ipykernel package so we can avoid doing imports until\n"
     ]
    }
   ],
   "source": [
    "# df1 = df_list[0]\n",
    "# for i in range(1,7):\n",
    "#     df = pd.concat([df1, df_list[i]], axis=1)\n",
    "#     df1 = df"
   ]
  },
  {
   "cell_type": "code",
   "execution_count": null,
   "metadata": {},
   "outputs": [],
   "source": []
  }
 ],
 "metadata": {
  "kernelspec": {
   "display_name": "Python 3",
   "language": "python",
   "name": "python3"
  },
  "language_info": {
   "codemirror_mode": {
    "name": "ipython",
    "version": 3
   },
   "file_extension": ".py",
   "mimetype": "text/x-python",
   "name": "python",
   "nbconvert_exporter": "python",
   "pygments_lexer": "ipython3",
   "version": "3.7.1"
  }
 },
 "nbformat": 4,
 "nbformat_minor": 2
}
